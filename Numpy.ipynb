{
 "cells": [
  {
   "cell_type": "code",
   "execution_count": 4,
   "id": "91efa123",
   "metadata": {},
   "outputs": [],
   "source": [
    "import numpy as np\n"
   ]
  },
  {
   "cell_type": "code",
   "execution_count": 5,
   "id": "d5962ebf",
   "metadata": {},
   "outputs": [
    {
     "name": "stdout",
     "output_type": "stream",
     "text": [
      "[[1 5 9]\n",
      " [8 5 6]]\n",
      "2\n",
      "(2, 3)\n",
      "int64\n",
      "8\n",
      "5\n",
      "9\n",
      "[9 6]\n"
     ]
    }
   ],
   "source": [
    "a = np.array([[1,5,9],[8,5,6]],dtype='int64')\n",
    "print (a)\n",
    "print(a.ndim)\n",
    "print(a.shape)\n",
    "print(a.dtype)\n",
    "print(a.itemsize)\n",
    "print(a[0][1])\n",
    "print(a[0][-1])\n",
    "print(a[:,2])\n"
   ]
  },
  {
   "cell_type": "code",
   "execution_count": 6,
   "id": "d50c1d07",
   "metadata": {},
   "outputs": [
    {
     "name": "stdout",
     "output_type": "stream",
     "text": [
      "[[1 2 3 4 5 6]\n",
      " [7 8 9 4 5 6]]\n",
      "[[1 3 5]\n",
      " [7 9 5]]\n"
     ]
    }
   ],
   "source": [
    "a = np.array([[1,2,3,4,5,6],[7,8,9,4,5,6]])\n",
    "print(a)\n",
    "print(a[:,0:6:2])\n"
   ]
  },
  {
   "cell_type": "code",
   "execution_count": 7,
   "id": "d8087e3f",
   "metadata": {},
   "outputs": [
    {
     "name": "stdout",
     "output_type": "stream",
     "text": [
      "[1 2 3 4 5 6 7 8 9]\n",
      "[1 9]\n",
      "[[ 0  2  3  0  5  6  0  8  9]\n",
      " [ 9  8  7  4  1  2 10  6  5]]\n",
      "[0 3 5 0]\n"
     ]
    }
   ],
   "source": [
    "# 2D array\n",
    "a = np.array([[1,2,3,4,5,6,7,8,9],[9,8,7,4,1,2,3,6,5]])\n",
    "print(a[0,:]) # print a specific row\n",
    "print(a[:,0]) # print a specific column\n",
    "a[1,-3] = 10  # change the value \n",
    "a[0,0:-1:3] = 0\n",
    "print(a)\n",
    "print(a[0,0:-1:2])"
   ]
  },
  {
   "cell_type": "code",
   "execution_count": 8,
   "id": "441bf5b1",
   "metadata": {},
   "outputs": [
    {
     "name": "stdout",
     "output_type": "stream",
     "text": [
      "[[[1 2 3]\n",
      "  [4 5 6]]\n",
      "\n",
      " [[7 5 3]\n",
      "  [1 0 9]]]\n",
      "1\n",
      "5\n"
     ]
    }
   ],
   "source": [
    "a = np.array([[[1,2,3],[4,5,6]],[[7,5,3],[1,0,9]]\n",
    "])\n",
    "print(a)\n",
    "print(a[0][0][0])\n",
    "print(a[1,0,1])"
   ]
  },
  {
   "cell_type": "code",
   "execution_count": 9,
   "id": "4bdc26d9",
   "metadata": {},
   "outputs": [
    {
     "name": "stdout",
     "output_type": "stream",
     "text": [
      "[[[0 0 0]\n",
      "  [0 0 0]\n",
      "  [0 0 0]]\n",
      "\n",
      " [[0 0 0]\n",
      "  [0 0 0]\n",
      "  [0 0 0]]\n",
      "\n",
      " [[0 0 0]\n",
      "  [0 0 0]\n",
      "  [0 0 0]]]\n",
      "\n",
      "\n",
      "[[[1 1 1]\n",
      "  [1 1 1]\n",
      "  [1 1 1]]\n",
      "\n",
      " [[1 1 1]\n",
      "  [1 1 1]\n",
      "  [1 1 1]]\n",
      "\n",
      " [[1 1 1]\n",
      "  [1 1 1]\n",
      "  [1 1 1]]]\n",
      "\n",
      "\n",
      "[[1 0 0 0]\n",
      " [0 1 0 0]\n",
      " [0 0 1 0]\n",
      " [0 0 0 1]]\n",
      "\n",
      "\n",
      "[[15 15 15]\n",
      " [15 15 15]\n",
      " [15 15 15]]\n"
     ]
    }
   ],
   "source": [
    "# special arrays\n",
    "print(np.zeros((3,3,3),dtype='int32'))\n",
    "print('\\n')\n",
    "print(np.ones((3,3,3),dtype='int32'))\n",
    "print('\\n')\n",
    "print(np.identity(4, dtype='int32') )\n",
    "print('\\n')\n",
    "print(np.full((3,3),15,dtype= 'int32'))\n"
   ]
  },
  {
   "cell_type": "code",
   "execution_count": 10,
   "id": "fbd2f0c7",
   "metadata": {},
   "outputs": [
    {
     "name": "stdout",
     "output_type": "stream",
     "text": [
      "[[0.91427356 0.02827276]\n",
      " [0.59810925 0.80080977]\n",
      " [0.49740771 0.44501157]\n",
      " [0.7141878  0.06725709]]\n",
      "[[1 3 4]\n",
      " [5 4 3]\n",
      " [4 3 5]]\n"
     ]
    }
   ],
   "source": [
    "print(np.random.rand(4,2))\n",
    "print(np.random.randint(1,7, size = (3,3)))\n"
   ]
  },
  {
   "cell_type": "code",
   "execution_count": 11,
   "id": "42a63f5e",
   "metadata": {},
   "outputs": [
    {
     "name": "stdout",
     "output_type": "stream",
     "text": [
      "[[1 1 1 1 1]\n",
      " [1 0 0 0 1]\n",
      " [1 0 9 0 1]\n",
      " [1 0 0 0 1]\n",
      " [1 1 1 1 1]]\n"
     ]
    }
   ],
   "source": [
    "a = np.ones((5,5),dtype='int32')\n",
    "a[1,1:-1] = 0\n",
    "a[3,1:-1] = 0\n",
    "a[1:-1,1:-1]=0\n",
    "a[2][2]=9\n",
    "print(a)"
   ]
  },
  {
   "cell_type": "code",
   "execution_count": 12,
   "id": "f2af68b0",
   "metadata": {},
   "outputs": [
    {
     "name": "stdout",
     "output_type": "stream",
     "text": [
      "[[0 0 0]\n",
      " [0 9 0]\n",
      " [0 0 0]]\n",
      "\n",
      "\n",
      "[[1 1 1 1 1]\n",
      " [1 0 0 0 1]\n",
      " [1 0 9 0 1]\n",
      " [1 0 0 0 1]\n",
      " [1 1 1 1 1]]\n"
     ]
    }
   ],
   "source": [
    "a = np.ones((5,5),dtype='int32')\n",
    "b = np.zeros((3,3),dtype='int32')\n",
    "b[1,1] = 9\n",
    "a[1:-1,1:-1] = b\n",
    "print(b)\n",
    "print('\\n')\n",
    "print(a)\n"
   ]
  },
  {
   "cell_type": "code",
   "execution_count": 13,
   "id": "0546f336",
   "metadata": {},
   "outputs": [
    {
     "name": "stdout",
     "output_type": "stream",
     "text": [
      "[[1 2 3]\n",
      " [4 5 6]]\n",
      "\n",
      "\n",
      "[[1 2 3]\n",
      " [4 0 6]]\n"
     ]
    }
   ],
   "source": [
    "a = np.array([[1,2,3],[4,5,6]])\n",
    "b = a.copy()\n",
    "b[1,1] = 0\n",
    "print(a)\n",
    "print('\\n')\n",
    "print(b)\n"
   ]
  },
  {
   "cell_type": "code",
   "execution_count": 14,
   "id": "80f625c0",
   "metadata": {},
   "outputs": [
    {
     "name": "stdout",
     "output_type": "stream",
     "text": [
      "[1 2 3 4 5 6 7 8 9]\n"
     ]
    }
   ],
   "source": [
    "a = np.array([1,2,3,4,5,6,7,8,9])\n",
    "\n",
    "print(a)"
   ]
  },
  {
   "cell_type": "code",
   "execution_count": 15,
   "id": "f95a2717",
   "metadata": {},
   "outputs": [
    {
     "data": {
      "text/plain": [
       "array([ 2,  4,  6,  8, 10, 12, 14, 16, 18])"
      ]
     },
     "execution_count": 15,
     "metadata": {},
     "output_type": "execute_result"
    }
   ],
   "source": [
    "a * 2"
   ]
  },
  {
   "cell_type": "code",
   "execution_count": 16,
   "id": "8d4d3a83",
   "metadata": {},
   "outputs": [
    {
     "data": {
      "text/plain": [
       "array([ 1,  4,  9, 16, 25, 36, 49, 64, 81], dtype=int32)"
      ]
     },
     "execution_count": 16,
     "metadata": {},
     "output_type": "execute_result"
    }
   ],
   "source": [
    "a ** 2"
   ]
  },
  {
   "cell_type": "code",
   "execution_count": 17,
   "id": "5f4a1ed3",
   "metadata": {},
   "outputs": [
    {
     "name": "stdout",
     "output_type": "stream",
     "text": [
      "[ 0.84147098  0.90929743  0.14112001 -0.7568025  -0.95892427 -0.2794155\n",
      "  0.6569866   0.98935825  0.41211849] \n",
      "\n",
      "[ 1.55740772 -2.18503986 -0.14254654  1.15782128 -3.38051501 -0.29100619\n",
      "  0.87144798 -6.79971146 -0.45231566] \n",
      "\n",
      "[ 0.84147098  0.90929743  0.14112001 -0.7568025  -0.95892427 -0.2794155\n",
      "  0.6569866   0.98935825  0.41211849] \n",
      "\n"
     ]
    }
   ],
   "source": [
    "b = np.sin(a)\n",
    "c = np.tan(a)\n",
    "d = np.sin(a)\n",
    "print(b,'\\n')\n",
    "print(c,'\\n')\n",
    "print(d,'\\n')"
   ]
  },
  {
   "cell_type": "code",
   "execution_count": 18,
   "id": "96e385e6",
   "metadata": {},
   "outputs": [
    {
     "data": {
      "text/plain": [
       "array([[45, 45, 45, 45],\n",
       "       [45, 45, 45, 45]])"
      ]
     },
     "execution_count": 18,
     "metadata": {},
     "output_type": "execute_result"
    }
   ],
   "source": [
    "#linear algebra \n",
    "a = np.ones((2,3),dtype = 'int32')\n",
    "b = np.full((3,4),15)\n",
    "np.matmul(a,b)"
   ]
  },
  {
   "cell_type": "code",
   "execution_count": 19,
   "id": "d5d94097",
   "metadata": {},
   "outputs": [
    {
     "name": "stdout",
     "output_type": "stream",
     "text": [
      "1\n",
      "9\n",
      "27\n"
     ]
    }
   ],
   "source": [
    "a = np.array([[1,2,9],[4,5,6]])\n",
    "print(np.min(a))\n",
    "print(np.max(a))\n",
    "print(np.sum(a))"
   ]
  },
  {
   "cell_type": "code",
   "execution_count": 20,
   "id": "794686d1",
   "metadata": {},
   "outputs": [
    {
     "name": "stdout",
     "output_type": "stream",
     "text": [
      "[4 5 9]\n",
      "[9 6]\n"
     ]
    }
   ],
   "source": [
    "print(np.max(a,axis = 0)) # max in each culomn\n",
    "print(np.max(a,axis = 1)) # max in each row"
   ]
  },
  {
   "cell_type": "code",
   "execution_count": 21,
   "id": "eb650de9",
   "metadata": {},
   "outputs": [
    {
     "name": "stdout",
     "output_type": "stream",
     "text": [
      "[[1 2 3 4 5 6 7 8 9]\n",
      " [6 7 8 3 4 5 1 2 9]\n",
      " [8 3 4 5 1 2 6 7 9]]\n",
      "\n",
      "\n",
      "[8 3 4 5 1 2 6 7 9 1 2 3 4 5 6 7 8 9 6 7 8 3 4 5 1 2 9]\n"
     ]
    }
   ],
   "source": [
    "# array stacking \n",
    "a = np.array([1,2,3,4,5,6,7,8,9])\n",
    "b = np.array([6,7,8,3,4,5,1,2,9])\n",
    "c = np.array([8,3,4,5,1,2,6,7,9])\n",
    "print(np.vstack((a,b,c)))\n",
    "print('\\n')\n",
    "print(np.hstack((c,a,b)))\n",
    "\n"
   ]
  },
  {
   "cell_type": "code",
   "execution_count": 22,
   "id": "3c2577c0",
   "metadata": {},
   "outputs": [
    {
     "name": "stdout",
     "output_type": "stream",
     "text": [
      "[[  1  22  33  11 999  11   2   1  78   0   1   2   9   8   7   1  76  88]\n",
      " [  1  13  21  11 196  75   4   3  34   6   7   8   0   1   2   3   4   5]\n",
      " [  3  42  12  33 766  75   4  55   6   4   3   4   5   6   7   0  11  12]\n",
      " [  1  22  33  11 999  11   2   1  78   0   1   2   9   8   7   1  76  88]\n",
      " [  1  13  21  11 196  75   4   3  34   6   7   8   0   1   2   3   4   5]\n",
      " [  3  42  12  33 766  75   4  55   6   4   3   4   5   6   7   0  11  12]\n",
      " [  1  22  33  11 999  11   2   1  78   0   1   2   9   8   7   1  76  88]\n",
      " [  1  13  21  11 196  75   4   3  34   6   7   8   0   1   2   3   4   5]\n",
      " [  3  42  12  33 766  75   4  55   6   4   3   4   5   6   7   0  11  12]\n",
      " [  1  22  33  11 999  11   2   1  78   0   1   2   9   8   7   1  76  88]\n",
      " [  1  13  21  11 196  75   4   3  34   6   7   8   0   1   2   3   4   5]\n",
      " [  3  42  12  33 766  75   4  55   6   4   3   4   5   6   7   0  11  12]\n",
      " [  1  22  33  11 999  11   2   1  78   0   1   2   9   8   7   1  76  88]\n",
      " [  1  13  21  11 196  75   4   3  34   6   7   8   0   1   2   3   4   5]]\n"
     ]
    }
   ],
   "source": [
    "# loading data from a text file using \n",
    "data = np.genfromtxt('data.txt',delimiter = ',')\n",
    "print(data.astype('int'))\n"
   ]
  },
  {
   "cell_type": "code",
   "execution_count": 23,
   "id": "c2a60865",
   "metadata": {},
   "outputs": [
    {
     "name": "stdout",
     "output_type": "stream",
     "text": [
      "[[False  True  True False  True False False False  True False False False\n",
      "  False False False False  True  True]\n",
      " [False False  True False  True  True False False  True False False False\n",
      "  False False False False False False]\n",
      " [False  True False  True  True  True False  True False False False False\n",
      "  False False False False False False]\n",
      " [False  True  True False  True False False False  True False False False\n",
      "  False False False False  True  True]\n",
      " [False False  True False  True  True False False  True False False False\n",
      "  False False False False False False]\n",
      " [False  True False  True  True  True False  True False False False False\n",
      "  False False False False False False]\n",
      " [False  True  True False  True False False False  True False False False\n",
      "  False False False False  True  True]\n",
      " [False False  True False  True  True False False  True False False False\n",
      "  False False False False False False]\n",
      " [False  True False  True  True  True False  True False False False False\n",
      "  False False False False False False]\n",
      " [False  True  True False  True False False False  True False False False\n",
      "  False False False False  True  True]\n",
      " [False False  True False  True  True False False  True False False False\n",
      "  False False False False False False]\n",
      " [False  True False  True  True  True False  True False False False False\n",
      "  False False False False False False]\n",
      " [False  True  True False  True False False False  True False False False\n",
      "  False False False False  True  True]\n",
      " [False False  True False  True  True False False  True False False False\n",
      "  False False False False False False]]\n"
     ]
    }
   ],
   "source": [
    "print(data > 20)"
   ]
  },
  {
   "cell_type": "code",
   "execution_count": 34,
   "id": "9ae56176",
   "metadata": {},
   "outputs": [
    {
     "name": "stdout",
     "output_type": "stream",
     "text": [
      "[999.  78.  76.  88. 196.  75. 766.  75.  55. 999.  78.  76.  88. 196.\n",
      "  75. 766.  75.  55. 999.  78.  76.  88. 196.  75. 766.  75.  55. 999.\n",
      "  78.  76.  88. 196.  75. 766.  75.  55. 999.  78.  76.  88. 196.  75.]\n"
     ]
    }
   ],
   "source": [
    "print(data[data > 50 ])"
   ]
  },
  {
   "cell_type": "code",
   "execution_count": 25,
   "id": "dfe8e37e",
   "metadata": {},
   "outputs": [
    {
     "name": "stdout",
     "output_type": "stream",
     "text": [
      "[7 8 5 1 4 2 3 6 9]\n",
      "[8 5 1]\n"
     ]
    }
   ],
   "source": [
    "a = np.array([[1,4,7,8,5,2,3,6,9],[7,8,5,1,4,2,3,6,9]])\n",
    "print(a[1,:])\n",
    "b = np.array([7,8,5,1,4,2,3,6,9])\n",
    "print(b[[1,2,3]])\n"
   ]
  },
  {
   "cell_type": "code",
   "execution_count": 26,
   "id": "88082e97",
   "metadata": {},
   "outputs": [
    {
     "name": "stdout",
     "output_type": "stream",
     "text": [
      "[[11 12]\n",
      " [16 17]]\n",
      "\n",
      "\n",
      "[ 2  8 14 20]\n"
     ]
    }
   ],
   "source": [
    "a = np.array([[1,2,3,4,5],\n",
    "              [6,7,8,9,10],\n",
    "              [11,12,13,14,15],\n",
    "              [16,17,18,19,20],\n",
    "              [21,22,23,24,25],\n",
    "              [26,27,28,29,30]\n",
    "            ])\n",
    "print(a[2:4,0:2])\n",
    "print('\\n')\n",
    "print(a[[0,1,2,3],[1,2,3,4]])"
   ]
  }
 ],
 "metadata": {
  "kernelspec": {
   "display_name": "Python 3 (ipykernel)",
   "language": "python",
   "name": "python3"
  },
  "language_info": {
   "codemirror_mode": {
    "name": "ipython",
    "version": 3
   },
   "file_extension": ".py",
   "mimetype": "text/x-python",
   "name": "python",
   "nbconvert_exporter": "python",
   "pygments_lexer": "ipython3",
   "version": "3.9.7"
  }
 },
 "nbformat": 4,
 "nbformat_minor": 5
}
